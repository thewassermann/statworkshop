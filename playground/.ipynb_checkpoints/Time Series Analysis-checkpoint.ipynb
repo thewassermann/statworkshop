{
 "cells": [
  {
   "cell_type": "markdown",
   "metadata": {},
   "source": [
    "# Playground for Time Series Analysis\n",
    "\n",
    "In this notebook I will experiment with different implementations of time series."
   ]
  },
  {
   "cell_type": "code",
   "execution_count": 9,
   "metadata": {
    "collapsed": true
   },
   "outputs": [],
   "source": [
    "from __future__ import division\n",
    "import numpy as np\n",
    "import pandas as pd"
   ]
  },
  {
   "cell_type": "markdown",
   "metadata": {},
   "source": [
    "### Basic Funcs"
   ]
  },
  {
   "cell_type": "code",
   "execution_count": 156,
   "metadata": {
    "collapsed": true
   },
   "outputs": [],
   "source": [
    "from numpy import sum as sum_\n",
    "\n",
    "def cov(s_1, s_2):\n",
    "    \"\"\"\n",
    "    Returns the covariance of two series. Degrees of Freedom set to 0.\n",
    "    \n",
    "    Parameters\n",
    "    ----------\n",
    "    \n",
    "        s_1 : np.array\n",
    "            First series\n",
    "            \n",
    "        s_2 : np.array\n",
    "            Second series\n",
    "            \n",
    "    Returns\n",
    "    -------\n",
    "    \n",
    "        covariance : float\n",
    "    \"\"\"\n",
    "    # set the length of the series\n",
    "    n = len(s_1)\n",
    "    \n",
    "    # check that both series are the same length\n",
    "    # else raise an error\n",
    "    if len(s_2) != n:\n",
    "        raise ValueError('Unmatched number of elements in series')\n",
    "\n",
    "    # calculation (E[XY] - E[X]E[Y])\n",
    "    # expectations empirically estimated\n",
    "    e_xy = np.sum(s_1 * s_2) / n \n",
    "    e_x = np.sum(s_1) / n\n",
    "    e_y = np.sum(s_2) / n\n",
    "    return e_xy - (e_x * e_y)\n",
    "\n",
    "def var(s_1, unbiased=True):\n",
    "    \"\"\"\n",
    "    Returns the variance of a series.\n",
    "    \n",
    "    Parameters\n",
    "    ----------\n",
    "    \n",
    "        s_1 : np.array\n",
    "            A series\n",
    "\n",
    "        biased : boolean\n",
    "\n",
    "    Returns\n",
    "    -------\n",
    "    \n",
    "        variance : float\n",
    "    \"\"\" \n",
    "    # calculation\n",
    "    n = len(s_1)\n",
    "    \n",
    "    if n == 1:\n",
    "        return 0.\n",
    "\n",
    "    # change for biased/unbiased\n",
    "    # will use sample variance (unbiased) as default\n",
    "    e_x = sum_(s_1) / n\n",
    "    \n",
    "    if unbiased:\n",
    "        n -= 1\n",
    "    return sum_((s_1 - e_x)**2) / n"
   ]
  },
  {
   "cell_type": "markdown",
   "metadata": {},
   "source": [
    "### Autocovariance"
   ]
  },
  {
   "cell_type": "code",
   "execution_count": 174,
   "metadata": {
    "collapsed": false
   },
   "outputs": [],
   "source": [
    "def acvf(ts, max_lag, plot_flag, ax=None):\n",
    "    \"\"\"\n",
    "    Function to return the value of the autocovariance\n",
    "    function of the time-series `ts` up to max_lags.\n",
    "    \n",
    "    Parameters\n",
    "    ----------\n",
    "    \n",
    "        ts : np.array\n",
    "            np.array of a timeseries\n",
    "            \n",
    "        max_lag : int\n",
    "            the largest lag given for the acvf. If the\n",
    "            `max_lag` exceeds the largest lag possible for\n",
    "            the data, the maximum lag possible will be returned.\n",
    "            \n",
    "        plot_flag : boolean\n",
    "            if `true`, returns a plot of the acvf function\n",
    "            with lags up to `max_lag`\n",
    "            \n",
    "    Returns\n",
    "    -------\n",
    "    \n",
    "        acvf_array : np.array\n",
    "            array containing `max_lag` calculations of the acvf\n",
    "            for time series `ts`\n",
    "    \"\"\"\n",
    "    # check if max_lag less than ts\n",
    "    if len(ts) < max_lag:\n",
    "        max_lag = len(ts)\n",
    "        \n",
    "    # create np array to store values\n",
    "    acvf_array = np.empty((max_lag))\n",
    "\n",
    "    # get autocovariances\n",
    "    for i in xrange(max_lag):\n",
    "        acvf_array[i] = cov(ts[i:], ts[:(len(ts)-i)])\n",
    "        \n",
    "    if plot_flag:\n",
    "        return single_ts_plot(acvf(ts, max_lag), ax, 'Autocovariance', 'ACVF', True)\n",
    "    else:\n",
    "        return acvf_array\n",
    "\n",
    "\n",
    "def acf(ts, max_lag, plot_flag, ax=None):\n",
    "    \"\"\"\n",
    "    Function to return the value of the autocorrelation\n",
    "    function of the time-series `ts` up to max_lags.\n",
    "    \n",
    "    Parameters\n",
    "    ----------\n",
    "    \n",
    "        ts : np.array\n",
    "            np.array of a timeseries\n",
    "            \n",
    "        max_lag : int\n",
    "            the largest lag given for the acf. If the\n",
    "            `max_lag` exceeds the largest lag possible for\n",
    "            the data, the maximum lag possible will be returned.\n",
    "            \n",
    "    Returns\n",
    "    -------\n",
    "    \n",
    "        acf_array : np.array\n",
    "            array containing `max_lag` calculations of the acf\n",
    "            for time series `ts`\n",
    "    \"\"\"\n",
    "    acvf_ = acvf(ts, max_lag)\n",
    "    return acvf_ / acvf_[0]"
   ]
  },
  {
   "cell_type": "code",
   "execution_count": 193,
   "metadata": {
    "collapsed": true
   },
   "outputs": [],
   "source": [
    "a = np.random.rand(200)\n",
    "b = np.random.rand(200)"
   ]
  },
  {
   "cell_type": "code",
   "execution_count": 109,
   "metadata": {
    "collapsed": false
   },
   "outputs": [
    {
     "data": {
      "text/plain": [
       "array([[ 0.05832448, -0.01530836],\n",
       "       [-0.01530836,  0.06169224]])"
      ]
     },
     "execution_count": 109,
     "metadata": {},
     "output_type": "execute_result"
    }
   ],
   "source": [
    "np.cov(a, b, ddof=0)"
   ]
  },
  {
   "cell_type": "code",
   "execution_count": 110,
   "metadata": {
    "collapsed": false
   },
   "outputs": [
    {
     "data": {
      "text/plain": [
       "-0.015308364557151455"
      ]
     },
     "execution_count": 110,
     "metadata": {},
     "output_type": "execute_result"
    }
   ],
   "source": [
    "cov_(a,b)"
   ]
  },
  {
   "cell_type": "code",
   "execution_count": 157,
   "metadata": {
    "collapsed": false
   },
   "outputs": [
    {
     "data": {
      "text/plain": [
       "0.068546933710443569"
      ]
     },
     "execution_count": 157,
     "metadata": {},
     "output_type": "execute_result"
    }
   ],
   "source": [
    "var(b, True)"
   ]
  },
  {
   "cell_type": "code",
   "execution_count": 159,
   "metadata": {
    "collapsed": false
   },
   "outputs": [
    {
     "data": {
      "text/plain": [
       "0.068546933710443569"
      ]
     },
     "execution_count": 159,
     "metadata": {},
     "output_type": "execute_result"
    }
   ],
   "source": [
    "np.var(b, ddof=1)"
   ]
  },
  {
   "cell_type": "code",
   "execution_count": 171,
   "metadata": {
    "collapsed": false
   },
   "outputs": [
    {
     "data": {
      "text/plain": [
       "array([  7.42724846e-02,   5.38375810e-03,  -1.19061726e-02,\n",
       "         3.31481990e-03,  -1.45735574e-04,  -2.31730773e-03,\n",
       "        -1.69306126e-03,   1.25069675e-02,   1.42858461e-02,\n",
       "        -9.11240869e-03,  -1.74593575e-02,  -1.04582684e-02,\n",
       "         7.98864017e-03,  -3.68595634e-05,  -1.39162622e-02,\n",
       "         1.47072092e-03,  -6.95802358e-03,  -2.08137085e-03,\n",
       "        -5.73930019e-03,  -2.89277558e-04])"
      ]
     },
     "execution_count": 171,
     "metadata": {},
     "output_type": "execute_result"
    }
   ],
   "source": [
    "acvf(a, 20)"
   ]
  },
  {
   "cell_type": "code",
   "execution_count": 175,
   "metadata": {
    "collapsed": false
   },
   "outputs": [
    {
     "data": {
      "text/plain": [
       "array([  1.00000000e+00,   7.24865760e-02,  -1.60303948e-01,\n",
       "         4.46305239e-02,  -1.96217448e-03,  -3.12000836e-02,\n",
       "        -2.27952690e-02,   1.68393013e-01,   1.92343722e-01,\n",
       "        -1.22688890e-01,  -2.35071677e-01,  -1.40809459e-01,\n",
       "         1.07558542e-01,  -4.96274813e-04,  -1.87367668e-01,\n",
       "         1.98016927e-02,  -9.36823861e-02,  -2.80234444e-02,\n",
       "        -7.72735720e-02,  -3.89481461e-03])"
      ]
     },
     "execution_count": 175,
     "metadata": {},
     "output_type": "execute_result"
    }
   ],
   "source": [
    "acf(a, 20)"
   ]
  },
  {
   "cell_type": "code",
   "execution_count": 176,
   "metadata": {
    "collapsed": true
   },
   "outputs": [],
   "source": [
    "import matplotlib.pyplot as plt\n",
    "%matplotlib inline"
   ]
  },
  {
   "cell_type": "code",
   "execution_count": 179,
   "metadata": {
    "collapsed": false
   },
   "outputs": [
    {
     "data": {
      "text/plain": [
       "<Container object of 20 artists>"
      ]
     },
     "execution_count": 179,
     "metadata": {},
     "output_type": "execute_result"
    },
    {
     "data": {
      "image/png": "[encoded data removed]",
      "text/plain": [
       "<matplotlib.figure.Figure at 0x11760fc50>"
      ]
     },
     "metadata": {},
     "output_type": "display_data"
    }
   ],
   "source": [
    "plt.bar(xrange(20), acf(a, 20))"
   ]
  },
  {
   "cell_type": "markdown",
   "metadata": {},
   "source": [
    "### Plotting Library"
   ]
  },
  {
   "cell_type": "code",
   "execution_count": 191,
   "metadata": {
    "collapsed": true
   },
   "outputs": [],
   "source": [
    "def single_ts_plot(arr, ax, title, type_, ci_flag):\n",
    "    \"\"\"\n",
    "    Function to take in an array and produce a \n",
    "    matplotlib bar chart on an axis\n",
    "    \"\"\"\n",
    "    \n",
    "    # formatting\n",
    "    ax.set_title(title)\n",
    "    ax.set_xlabel('Lags')\n",
    "    ax.set_ylabel(type_)\n",
    "    \n",
    "    # plot points\n",
    "    ax.bar(xrange(len(arr)), arr, alpha=0.4, color='blue')\n",
    "    \n",
    "    # confidence intervals for white noise process\n",
    "    if ci_flag:\n",
    "        ax.axhline(1 / (len(arr)**.5), color='red', ls='--')\n",
    "        ax.axhline(-1 / (len(arr)**.5), color='red', ls='--')"
   ]
  },
  {
   "cell_type": "code",
   "execution_count": 194,
   "metadata": {
    "collapsed": false,
    "scrolled": true
   },
   "outputs": [
    {
     "data": {
      "image/png": "[encoded data removed]",
      "text/plain": [
       "<matplotlib.figure.Figure at 0x119386250>"
      ]
     },
     "metadata": {},
     "output_type": "display_data"
    }
   ],
   "source": [
    "fig, ax = plt.subplots(1,1)\n",
    "ax = single_ts_plot(acf(a, 60), ax, 'Autocorrelogram', 'ACF', True)"
   ]
  },
  {
   "cell_type": "code",
   "execution_count": 196,
   "metadata": {
    "collapsed": false
   },
   "outputs": [
    {
     "data": {
      "text/plain": [
       "0.0"
      ]
     },
     "execution_count": 196,
     "metadata": {},
     "output_type": "execute_result"
    }
   ],
   "source": [
    "np.var([1])"
   ]
  },
  {
   "cell_type": "code",
   "execution_count": 197,
   "metadata": {
    "collapsed": false
   },
   "outputs": [
    {
     "data": {
      "text/plain": [
       "nan"
      ]
     },
     "execution_count": 197,
     "metadata": {},
     "output_type": "execute_result"
    }
   ],
   "source": [
    "var(np.array([1]))"
   ]
  },
  {
   "cell_type": "code",
   "execution_count": null,
   "metadata": {
    "collapsed": true
   },
   "outputs": [],
   "source": []
  }
 ],
 "metadata": {
  "anaconda-cloud": {},
  "kernelspec": {
   "display_name": "Python [conda root]",
   "language": "python",
   "name": "conda-root-py"
  },
  "language_info": {
   "codemirror_mode": {
    "name": "ipython",
    "version": 2
   },
   "file_extension": ".py",
   "mimetype": "text/x-python",
   "name": "python",
   "nbconvert_exporter": "python",
   "pygments_lexer": "ipython2",
   "version": "2.7.12"
  }
 },
 "nbformat": 4,
 "nbformat_minor": 1
}
